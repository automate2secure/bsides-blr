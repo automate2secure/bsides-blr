{
 "cells": [
  {
   "cell_type": "markdown",
   "id": "dc2b33f7",
   "metadata": {},
   "source": [
    "# HTTP Requests in Python using `requests` - Part 1\n",
    "This notebook provides hands-on examples for working with HTTP requests using Python's popular `requests` library. We will cover how to make GET and POST requests, handle responses, work with headers, and send JSON data."
   ]
  },
  {
   "cell_type": "code",
   "execution_count": null,
   "id": "bb07626f",
   "metadata": {},
   "outputs": [],
   "source": [
    "import requests"
   ]
  },
  {
   "cell_type": "markdown",
   "id": "26e1a77e",
   "metadata": {},
   "source": [
    "## Making a GET Request\n",
    "A GET request is used to retrieve data from a specified resource. It is the most common HTTP request method.\n",
    "Below is an example using `requests.get()`:"
   ]
  },
  {
   "cell_type": "code",
   "execution_count": null,
   "id": "011a2fed",
   "metadata": {},
   "outputs": [],
   "source": [
    "# Example GET request\n",
    "response = requests.get('https://jsonplaceholder.typicode.com/posts/1')\n",
    "print(response.status_code)\n",
    "print(response.text[:500])  # Preview the response"
   ]
  },
  {
   "cell_type": "markdown",
   "id": "98bf3174",
   "metadata": {},
   "source": [
    "## HTTP Status Codes\n",
    "Every HTTP response has a status code that tells you the result of the request. Common codes include:\n",
    "- `200 OK`: The request was successful.\n",
    "- `404 Not Found`: The resource could not be found.\n",
    "- `500 Internal Server Error`: Something went wrong on the server.\n",
    "\n",
    "Let's print the status code and check if the request was successful:"
   ]
  },
  {
   "cell_type": "code",
   "execution_count": null,
   "id": "3905baa2",
   "metadata": {},
   "outputs": [],
   "source": [
    "if response.status_code == 200:\n",
    "    print(\"Success!\")\n",
    "else:\n",
    "    print(\"Failed with status:\", response.status_code)"
   ]
  },
  {
   "cell_type": "markdown",
   "id": "8f51adcc",
   "metadata": {},
   "source": [
    "## Handling the Response\n",
    "You can access various parts of the response such as the text, JSON data, and headers."
   ]
  },
  {
   "cell_type": "code",
   "execution_count": null,
   "id": "10cf1be0",
   "metadata": {},
   "outputs": [],
   "source": [
    "print(response.json())  # Convert response to JSON\n",
    "print(response.headers)  # Print response headers"
   ]
  },
  {
   "cell_type": "markdown",
   "id": "3a13abb7",
   "metadata": {},
   "source": [
    "## Sending Custom HTTP Headers\n",
    "You can pass custom headers such as authentication tokens or content types:"
   ]
  },
  {
   "cell_type": "code",
   "execution_count": null,
   "id": "d387847c",
   "metadata": {},
   "outputs": [],
   "source": [
    "headers = {'User-Agent': 'MyApp/1.0'}\n",
    "response = requests.get('https://httpbin.org/headers', headers=headers)\n",
    "print(response.json())"
   ]
  },
  {
   "cell_type": "markdown",
   "id": "b3b0086b",
   "metadata": {},
   "source": [
    "## Making a POST Request\n",
    "POST requests are used to send data to a server to create or update a resource. Here’s an example:"
   ]
  },
  {
   "cell_type": "code",
   "execution_count": null,
   "id": "046d726e",
   "metadata": {},
   "outputs": [],
   "source": [
    "data = {'title': 'foo', 'body': 'bar', 'userId': 1}\n",
    "response = requests.post('https://jsonplaceholder.typicode.com/posts', data=data)\n",
    "print(response.status_code)\n",
    "print(response.json())"
   ]
  },
  {
   "cell_type": "markdown",
   "id": "3bc442bd",
   "metadata": {},
   "source": [
    "## Sending JSON Data in a POST Request\n",
    "To send data as JSON, use the `json` parameter (not `data`):"
   ]
  },
  {
   "cell_type": "code",
   "execution_count": null,
   "id": "aeab212a",
   "metadata": {},
   "outputs": [],
   "source": [
    "json_data = {'title': 'Hello', 'body': 'World', 'userId': 123}\n",
    "response = requests.post('https://jsonplaceholder.typicode.com/posts', json=json_data)\n",
    "print(response.json())"
   ]
  }
 ],
 "metadata": {
  "kernelspec": {
   "display_name": "Python 3 (ipykernel)",
   "language": "python",
   "name": "python3"
  },
  "language_info": {
   "codemirror_mode": {
    "name": "ipython",
    "version": 3
   },
   "file_extension": ".py",
   "mimetype": "text/x-python",
   "name": "python",
   "nbconvert_exporter": "python",
   "pygments_lexer": "ipython3",
   "version": "3.13.3"
  }
 },
 "nbformat": 4,
 "nbformat_minor": 5
}
