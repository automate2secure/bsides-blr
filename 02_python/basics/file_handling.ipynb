{
 "cells": [
  {
   "cell_type": "markdown",
   "id": "b328efaa-ff6b-47b8-a058-c2a7d0d98c70",
   "metadata": {},
   "source": [
    "# File Handling\n",
    "\n",
    "This notebook covers reading and writing files in Python, including handling large files efficiently. We'll look at text files, binary files, and best practices for working with large datasets.\n",
    "\n"
   ]
  },
  {
   "cell_type": "markdown",
   "id": "581c668b-082f-4a19-9505-50680a567bf7",
   "metadata": {},
   "source": [
    "## Reading Text Files\n",
    "Use the built-in open() function with mode 'r' to read a text file.\n",
    "\n",
    "**Explanation**:\n",
    "* `'r'` mode opens the file for reading.\n",
    "* `with` ensures the file is automatically closed after reading.\n",
    "* `.strip()` removes newline characters from each line.\n",
    "\n"
   ]
  },
  {
   "cell_type": "code",
   "execution_count": null,
   "id": "77e1fc55-78c4-41bf-9d26-a642b873f2e9",
   "metadata": {},
   "outputs": [],
   "source": [
    "# Example: Reading a text file line by line\n",
    "with open('sample.txt', 'r') as file:\n",
    "    for line in file:\n",
    "        print(line.strip())"
   ]
  },
  {
   "cell_type": "markdown",
   "id": "b7a96e01-58bc-40ef-a94f-c247350dfae1",
   "metadata": {},
   "source": [
    "## Reading Binary Files\n",
    "Binary files contain non-text data, such as images or executables. Use mode 'rb' to read them.\n",
    "\n",
    "**Explanation**:\n",
    "\n",
    "* `'rb'` opens the file in binary mode.\n",
    "* `.read()` loads the entire binary content into memory.\n"
   ]
  },
  {
   "cell_type": "code",
   "execution_count": null,
   "id": "a8a93462-2580-4e33-acbd-daa837a58ec4",
   "metadata": {
    "scrolled": true
   },
   "outputs": [],
   "source": [
    "# Example: Reading binary content\n",
    "with open('sample.jpg', 'rb') as file:\n",
    "    data = file.read()\n",
    "    print(f\"Read {len(data)} bytes\")"
   ]
  },
  {
   "cell_type": "markdown",
   "id": "ad22cb43-9c4f-40fd-b90b-e3a05fd95c2e",
   "metadata": {},
   "source": [
    "## Writing Text Files\n",
    "To write data to a text file, use mode 'w' (write) or 'a' (append).\n",
    "\n",
    "**Explanation**:\n",
    "\n",
    "* `'w'` overwrites the file if it exists.\n",
    "* `.write()` adds content to the file. Add \\n for new lines."
   ]
  },
  {
   "cell_type": "code",
   "execution_count": null,
   "id": "2a72b86a-1761-49ff-8094-b9ea87296d41",
   "metadata": {},
   "outputs": [],
   "source": [
    "# Example: Writing to a text file\n",
    "with open('output.txt', 'w') as file:\n",
    "    file.write(\"This is a test message.\\n\")\n",
    "    file.write(\"This will overwrite existing content.\")"
   ]
  },
  {
   "cell_type": "markdown",
   "id": "54cc8c1a-8aba-4dd9-82e0-1e7deaadc029",
   "metadata": {},
   "source": [
    "## Writing Binary Files\n",
    "Use 'wb' mode to write binary data to files.\n",
    "\n",
    "**Explanation**:\n",
    "\n",
    "* `'wb'` is used for writing binary content.\n",
    "* Useful for saving images, executables, or custom formats.\n",
    "\n"
   ]
  },
  {
   "cell_type": "code",
   "execution_count": null,
   "id": "bbcfbe65-e7e5-4014-bbf1-f873343de21a",
   "metadata": {},
   "outputs": [],
   "source": [
    "# Example: Writing binary content\n",
    "binary_data = b\"\\x89PNG\\r\\n\\x1a\\n\"\n",
    "with open('binary_output.bin', 'wb') as file:\n",
    "    file.write(binary_data)"
   ]
  },
  {
   "cell_type": "markdown",
   "id": "20ae8863-7d01-4a7a-a9a6-618af06bd10f",
   "metadata": {},
   "source": [
    "## Handling Large Files\n",
    "To avoid memory issues, process large files line by line using buffered reading.\n",
    "\n",
    "**Explanation**:\n",
    "\n",
    "* This method is memory-efficient.\n",
    "* Ideal for log files, CSVs, and large datasets.\n",
    "\n"
   ]
  },
  {
   "cell_type": "code",
   "execution_count": null,
   "id": "e1c6e3aa-4572-43be-85bb-c9d0145f4120",
   "metadata": {},
   "outputs": [],
   "source": [
    "# Example: Efficiently reading large files\n",
    "with open('large_file.txt', 'r') as file:\n",
    "    for line in file:\n",
    "        # Process each line without loading the whole file\n",
    "        print(line.strip())"
   ]
  }
 ],
 "metadata": {
  "kernelspec": {
   "display_name": "Python 3 (ipykernel)",
   "language": "python",
   "name": "python3"
  },
  "language_info": {
   "codemirror_mode": {
    "name": "ipython",
    "version": 3
   },
   "file_extension": ".py",
   "mimetype": "text/x-python",
   "name": "python",
   "nbconvert_exporter": "python",
   "pygments_lexer": "ipython3",
   "version": "3.13.3"
  }
 },
 "nbformat": 4,
 "nbformat_minor": 5
}
