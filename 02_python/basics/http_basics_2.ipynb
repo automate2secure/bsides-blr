{
 "cells": [
  {
   "cell_type": "markdown",
   "id": "c468e178",
   "metadata": {},
   "source": [
    "# HTTP Requests in Python using `requests` - Part 2"
   ]
  },
  {
   "cell_type": "code",
   "execution_count": null,
   "id": "b9eb2b6f",
   "metadata": {},
   "outputs": [],
   "source": [
    "import requests"
   ]
  },
  {
   "cell_type": "markdown",
   "id": "a18cd016",
   "metadata": {},
   "source": [
    "## Working with Cookies\n",
    "You can access cookies sent by the server using `.cookies`, and send cookies to the server using the `cookies` parameter."
   ]
  },
  {
   "cell_type": "code",
   "execution_count": null,
   "id": "642eb31b",
   "metadata": {},
   "outputs": [],
   "source": [
    "# Get cookies from server\n",
    "response = requests.get('https://httpbin.org/cookies/set/sessioncookie/123456789')\n",
    "print(\"Cookies from server:\", response.cookies.get_dict())\n",
    "\n",
    "# Send cookies to server\n",
    "cookies = {'sessioncookie': '123456789'}\n",
    "response = requests.get('https://httpbin.org/cookies', cookies=cookies)\n",
    "print(\"Sent cookies, server responded with:\", response.json())"
   ]
  },
  {
   "cell_type": "markdown",
   "id": "cb70cf88",
   "metadata": {},
   "source": [
    "## Uploading a File\n",
    "Use the `files` parameter in `requests.post()` to upload a file."
   ]
  },
  {
   "cell_type": "code",
   "execution_count": null,
   "id": "9cfde772",
   "metadata": {},
   "outputs": [],
   "source": [
    "# Upload a text file\n",
    "# Ensure example.txt exists in your directory\n",
    "files = {'file': ('example.txt', open('example.txt', 'rb'))}\n",
    "response = requests.post('https://httpbin.org/post', files=files)\n",
    "print(\"Uploaded file content echoed by server:\", response.json()['files'])"
   ]
  },
  {
   "cell_type": "markdown",
   "id": "d7b6c5f0",
   "metadata": {},
   "source": [
    "## Downloading a File\n",
    "Use the `.content` attribute to save the binary content of a file."
   ]
  },
  {
   "cell_type": "code",
   "execution_count": null,
   "id": "ff8d1fc0",
   "metadata": {},
   "outputs": [],
   "source": [
    "# Download an image\n",
    "url = 'https://httpbin.org/image/png'\n",
    "response = requests.get(url)\n",
    "with open('downloaded_image.png', 'wb') as f:\n",
    "    f.write(response.content)\n",
    "print(\"Image downloaded as downloaded_image.png\")"
   ]
  },
  {
   "cell_type": "markdown",
   "id": "66465e37",
   "metadata": {},
   "source": [
    "## Parsing HTML using BeautifulSoup\n",
    "Use `bs4` (BeautifulSoup) to parse and search HTML documents.\n",
    "Install with: `pip install beautifulsoup4`"
   ]
  },
  {
   "cell_type": "code",
   "execution_count": null,
   "id": "90285977",
   "metadata": {},
   "outputs": [],
   "source": [
    "from bs4 import BeautifulSoup\n",
    "\n",
    "url = 'https://httpbin.org/html'\n",
    "response = requests.get(url)\n",
    "soup = BeautifulSoup(response.text, 'html.parser')\n",
    "\n",
    "print(\"Title:\", soup.title.string)\n",
    "print(\"Paragraph:\", soup.p.text)"
   ]
  }
 ],
 "metadata": {
  "kernelspec": {
   "display_name": "Python 3 (ipykernel)",
   "language": "python",
   "name": "python3"
  },
  "language_info": {
   "codemirror_mode": {
    "name": "ipython",
    "version": 3
   },
   "file_extension": ".py",
   "mimetype": "text/x-python",
   "name": "python",
   "nbconvert_exporter": "python",
   "pygments_lexer": "ipython3",
   "version": "3.13.3"
  }
 },
 "nbformat": 4,
 "nbformat_minor": 5
}
