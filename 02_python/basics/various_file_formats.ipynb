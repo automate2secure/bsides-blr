{
 "cells": [
  {
   "cell_type": "markdown",
   "id": "3f233203",
   "metadata": {},
   "source": [
    "# Handling Various File Formats in Python\n",
    "\n",
    "This notebook demonstrates how to read and write data in different formats commonly encountered in cybersecurity and threat intelligence work using Python."
   ]
  },
  {
   "cell_type": "markdown",
   "id": "af229fa4",
   "metadata": {},
   "source": [
    "## Working with CSV Files\n",
    "\n",
    "CSV (Comma-Separated Values) is a common plain-text format for storing tabular data."
   ]
  },
  {
   "cell_type": "code",
   "execution_count": null,
   "id": "7f995c86",
   "metadata": {},
   "outputs": [],
   "source": [
    "import csv\n",
    "\n",
    "# Writing to CSV\n",
    "with open('data.csv', mode='w', newline='') as file:\n",
    "    writer = csv.writer(file)\n",
    "    writer.writerow(['Name', 'Role'])\n",
    "    writer.writerow(['Alice', 'Analyst'])\n",
    "    writer.writerow(['Bob', 'Engineer'])\n",
    "\n",
    "# Reading from CSV\n",
    "with open('data.csv', mode='r') as file:\n",
    "    reader = csv.reader(file)\n",
    "    for row in reader:\n",
    "        print(row)"
   ]
  },
  {
   "cell_type": "markdown",
   "id": "63c8f719",
   "metadata": {},
   "source": [
    "## Working with JSON Files\n",
    "\n",
    "JSON (JavaScript Object Notation) is widely used for structured data exchange."
   ]
  },
  {
   "cell_type": "code",
   "execution_count": null,
   "id": "778f76a5",
   "metadata": {},
   "outputs": [],
   "source": [
    "import json\n",
    "\n",
    "# Writing JSON\n",
    "data = {\"tool\": \"ThreatAnalyzer\", \"version\": 1.0, \"enabled\": True}\n",
    "with open(\"data.json\", \"w\") as file:\n",
    "    json.dump(data, file, indent=2)\n",
    "\n",
    "# Reading JSON\n",
    "with open(\"data.json\") as file:\n",
    "    loaded = json.load(file)\n",
    "    print(loaded)"
   ]
  },
  {
   "cell_type": "markdown",
   "id": "dcc8deef",
   "metadata": {},
   "source": [
    "## Working with HTML/XML\n",
    "\n",
    "Python can parse HTML/XML data using libraries like `BeautifulSoup`."
   ]
  },
  {
   "cell_type": "code",
   "execution_count": null,
   "id": "9efd3490",
   "metadata": {},
   "outputs": [],
   "source": [
    "from bs4 import BeautifulSoup\n",
    "\n",
    "html_data = \"\"\"\n",
    "<html><body><h1>Threat Report</h1><p>Indicators Found</p></body></html>\n",
    "\"\"\"\n",
    "soup = BeautifulSoup(html_data, 'html.parser')\n",
    "print(soup.h1.text)"
   ]
  },
  {
   "cell_type": "markdown",
   "id": "08b35fbe",
   "metadata": {},
   "source": [
    "## Reading Configuration Files (INI Format)\n",
    "\n",
    "The `configparser` module is used to handle `.ini` files for configurations."
   ]
  },
  {
   "cell_type": "code",
   "execution_count": null,
   "id": "61ee3a16",
   "metadata": {},
   "outputs": [],
   "source": [
    "import configparser\n",
    "\n",
    "config = configparser.ConfigParser()\n",
    "config['DEFAULT'] = {'Debug': 'True', 'LogLevel': '3'}\n",
    "with open('config.ini', 'w') as configfile:\n",
    "    config.write(configfile)\n",
    "\n",
    "config.read('config.ini')\n",
    "print(config['DEFAULT']['Debug'])"
   ]
  },
  {
   "cell_type": "markdown",
   "id": "928415d8",
   "metadata": {},
   "source": [
    "## Working with YAML Files\n",
    "\n",
    "YAML (Yet Another Markup Language) is human-readable and often used for configuration.\n",
    "\n",
    "Requires `PyYAML` package."
   ]
  },
  {
   "cell_type": "code",
   "execution_count": null,
   "id": "5cca19d0",
   "metadata": {},
   "outputs": [],
   "source": [
    "import yaml\n",
    "\n",
    "yaml_content = {\n",
    "    'name': 'ThreatBot',\n",
    "    'version': '2.1',\n",
    "    'enabled': True\n",
    "}\n",
    "\n",
    "with open('config.yaml', 'w') as f:\n",
    "    yaml.dump(yaml_content, f)\n",
    "\n",
    "with open('config.yaml') as f:\n",
    "    parsed = yaml.safe_load(f)\n",
    "    print(parsed)"
   ]
  }
 ],
 "metadata": {
  "kernelspec": {
   "display_name": "Python 3 (ipykernel)",
   "language": "python",
   "name": "python3"
  },
  "language_info": {
   "codemirror_mode": {
    "name": "ipython",
    "version": 3
   },
   "file_extension": ".py",
   "mimetype": "text/x-python",
   "name": "python",
   "nbconvert_exporter": "python",
   "pygments_lexer": "ipython3",
   "version": "3.13.3"
  }
 },
 "nbformat": 4,
 "nbformat_minor": 5
}
