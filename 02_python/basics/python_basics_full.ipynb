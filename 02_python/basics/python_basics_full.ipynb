{
 "cells": [
  {
   "cell_type": "markdown",
   "id": "aa39bfd5-e560-471c-88a6-f1a8e83cf654",
   "metadata": {},
   "source": [
    "# 🐍 Python Basics\n",
    "\n",
    "This notebook will introduce core Python concepts essential for scripting and automation.\n"
   ]
  },
  {
   "cell_type": "markdown",
   "id": "eb1538ea",
   "metadata": {},
   "source": [
    "## Variables\n",
    "In Python, variables are used to store data that your program can use and manipulate. Think of a variable as a container that holds information: like a name, a number, or even a list of IP addresses.\n",
    "\n",
    "Python is a dynamically typed language, which means you don’t need to declare the data type of a variable, Python figures it out automatically.\n",
    "\n",
    "### Naming Rules\n",
    "* Variable names are case-sensitive\n",
    "* Must start with a letter or underscore (_)\n",
    "* Can include letters, numbers, and underscores\n",
    "* Should be descriptive for readability\n",
    "\n",
    "✅ **Valid**:  \n",
    "```python\n",
    "ioc_list = []\n",
    "_threat_actor = \"APT28\"\n",
    "```\n",
    "❌ **Invalid**:\n",
    "```python\n",
    "2score = 100       # Starts with a number\n",
    "is-threat = False  # Hyphens are not allowed\n",
    "```\n",
    "\n",
    "**Below example covers the basic data types: `int`, `float`, `str`, `bool`**."
   ]
  },
  {
   "cell_type": "code",
   "execution_count": null,
   "id": "802439fa",
   "metadata": {},
   "outputs": [],
   "source": [
    "name = \"Analyst\" # name variable store a string\n",
    "threat_level = 5 # threat_level is an integer\n",
    "confidence_score = 87.5 # This stores a float/decimal point\n",
    "is_malicious = True # Boolean value (True or False)\n",
    "\n",
    "print(name, threat_level)"
   ]
  },
  {
   "cell_type": "markdown",
   "id": "bf63cd1a-1fad-440e-a5fe-2383673984ea",
   "metadata": {},
   "source": [
    "### Exercise\n",
    "\n",
    "* Create a variable to store your name.\n",
    "* Create another variable to store the current threat score.\n"
   ]
  },
  {
   "cell_type": "code",
   "execution_count": null,
   "id": "ce4d085e-af90-4dbf-bb57-8266229ae507",
   "metadata": {},
   "outputs": [],
   "source": [
    "# Write your code below\n"
   ]
  },
  {
   "cell_type": "markdown",
   "id": "787ed11b",
   "metadata": {},
   "source": [
    "## Container Data Types\n",
    "\n",
    "Container data types are special types in Python that can hold multiple items (like a group of IP addresses, a list of file hashes, or a mapping of domains to threat scores). They are essential for organizing, storing, and processing collections of data.\n",
    "\n",
    "1. **list**\n",
    "* Ordered, changeable, and allows duplicates\n",
    "* Defined using square brackets []\n",
    "\n",
    "2. **tuple**\n",
    "* Ordered, immutable (unchangeable), and allows duplicates\n",
    "* Defined using parentheses ()\n",
    "\n",
    "3. **dict** (Dictionary)\n",
    "* Ordered (since 3.6), changeable, stores key-value pairs\n",
    "* Defined using curly braces {}\n",
    "\n",
    "4. **set**\n",
    "* Unordered, changeable, no duplicate values\n",
    "* Defined using curly braces {} or the set() function"
   ]
  },
  {
   "cell_type": "code",
   "execution_count": 1,
   "id": "235140eb",
   "metadata": {},
   "outputs": [
    {
     "name": "stdout",
     "output_type": "stream",
     "text": [
      "['domain.com', '192.168.1.1'] ('hash1', 'hash2') {'domain': 'example.com', 'ip': '8.8.8.8'} {'ioc2', 'ioc1'}\n"
     ]
    }
   ],
   "source": [
    "ioc_list = [\"domain.com\", \"192.168.1.1\"]\n",
    "ioc_tuple = (\"hash1\", \"hash2\")\n",
    "ioc_dict = {\"domain\": \"example.com\", \"ip\": \"8.8.8.8\"}\n",
    "ioc_set = {\"ioc1\", \"ioc2\"}\n",
    "print(ioc_list, ioc_tuple, ioc_dict, ioc_set)"
   ]
  },
  {
   "cell_type": "markdown",
   "id": "b58db6cd",
   "metadata": {},
   "source": [
    "## Text Output & Formatting\n",
    "In Python, the most common way to display information is using the `print()` function. Formatting helps you make the output readable, organized, and dynamic.\n",
    "\n",
    "### String Concatenation\n",
    "\n",
    "* You can join strings using `+`\n",
    "* Using f-strings"
   ]
  },
  {
   "cell_type": "code",
   "execution_count": 2,
   "id": "5fd580ad",
   "metadata": {},
   "outputs": [
    {
     "name": "stdout",
     "output_type": "stream",
     "text": [
      "CTI Analyst handled 4 alerts today.\n"
     ]
    }
   ],
   "source": [
    "name = \"CTI Analyst\"\n",
    "alerts = 4\n",
    "print(f\"{name} handled {alerts} alerts today.\")"
   ]
  },
  {
   "cell_type": "markdown",
   "id": "ff4f66ce",
   "metadata": {},
   "source": [
    "## Conditional Statements\n",
    "Conditional statements let your program make decisions and take different actions based on whether a condition is True or False.\n",
    "\n",
    "Think of them as cybersecurity playbooks:\n",
    "\n",
    "> “If this alert is critical, then escalate it.”"
   ]
  },
  {
   "cell_type": "code",
   "execution_count": null,
   "id": "c67beec4",
   "metadata": {},
   "outputs": [],
   "source": [
    "# if statement\n",
    "threat_level = \"High\"\n",
    "\n",
    "if threat_level == \"High\":\n",
    "    print(\"Escalate to Incident Response Team.\")"
   ]
  },
  {
   "cell_type": "code",
   "execution_count": null,
   "id": "d82bcbbf-1b8d-45fd-b1ab-de0d840b189c",
   "metadata": {},
   "outputs": [],
   "source": [
    "# if-else statement\n",
    "is_malicious = True\n",
    "\n",
    "if is_malicious:\n",
    "    print(\"Block the IP.\")\n",
    "else:\n",
    "    print(\"Log and monitor.\")"
   ]
  },
  {
   "cell_type": "code",
   "execution_count": null,
   "id": "10fdb920-c235-4f42-9e12-6e1f2166771c",
   "metadata": {},
   "outputs": [],
   "source": [
    "# if-elif-else statement\n",
    "score = 85\n",
    "\n",
    "if score >= 90:\n",
    "    print(\"Severity: Critical\")\n",
    "elif score >= 70:\n",
    "    print(\"Severity: High\")\n",
    "elif score >= 50:\n",
    "    print(\"Severity: Medium\")\n",
    "else:\n",
    "    print(\"Severity: Low\")"
   ]
  },
  {
   "cell_type": "code",
   "execution_count": null,
   "id": "57755679-8672-46ff-ad2a-d797b8ee7193",
   "metadata": {},
   "outputs": [],
   "source": [
    "# match-case statement\n",
    "threat_type = \"ransomware\"\n",
    "\n",
    "match threat_type:\n",
    "    case \"phishing\":\n",
    "        print(\"Check email headers.\")\n",
    "    case \"ransomware\":\n",
    "        print(\"Isolate infected hosts.\")\n",
    "    case _:\n",
    "        print(\"Log and investigate.\")"
   ]
  },
  {
   "cell_type": "markdown",
   "id": "2677af1c",
   "metadata": {},
   "source": [
    "## Loops\n",
    "Loops help you run a block of code multiple times. In Python, you can either use `for` or `while` loop.\n",
    "\n",
    "* `for` Loop: Used to iterate over a sequence like a list, string, or range of numbers.\n",
    "* `while` Loop: Used to repeat a block of code as long as a condition is true.\n",
    "\n",
    "In Cyber Threat Intelligence, loops can be used to:\n",
    "* Iterate over lists of IOCs (Indicators of Compromise)\n",
    "* Process log files\n",
    "* Scan open ports or IPs\n",
    "* Automate data parsing"
   ]
  },
  {
   "cell_type": "code",
   "execution_count": null,
   "id": "01c36ebe",
   "metadata": {},
   "outputs": [],
   "source": [
    "# for loop\n",
    "\n",
    "iocs = [\"192.168.1.10\", \"malicious.com\", \"abc123.exe\"]\n",
    "\n",
    "for ioc in iocs:\n",
    "    print(f\"Analyzing IOC: {ioc}\")"
   ]
  },
  {
   "cell_type": "code",
   "execution_count": null,
   "id": "1f7c66e3-aa92-4c96-a434-1a422f6e081a",
   "metadata": {},
   "outputs": [],
   "source": [
    "# while loop\n",
    "\n",
    "threats_remaining = 3\n",
    "\n",
    "while threats_remaining > 0:\n",
    "    print(\"Investigating threat...\")\n",
    "    threats_remaining -= 1"
   ]
  },
  {
   "cell_type": "markdown",
   "id": "f48b9ab5-e1f2-4146-93ed-9512b609ecef",
   "metadata": {},
   "source": [
    "### break and continue\n",
    "* `break` exits the loop immediately.\n",
    "* `continue` skips the current iteration."
   ]
  },
  {
   "cell_type": "code",
   "execution_count": null,
   "id": "35543815-4c3a-4fa7-a761-c33f5689f7f1",
   "metadata": {},
   "outputs": [],
   "source": [
    "iocs = [\"192.168.1.10\", \"malicious.com\", \"abc123.exe\", \"127.0.0.1\", \"endfile.txt\", \"hello.txt\"]\n",
    "\n",
    "for ioc in iocs:\n",
    "    if ioc.endswith(\".exe\"):\n",
    "        print(f\"Skipping file: {ioc}\")\n",
    "        continue\n",
    "    elif ioc == \"endfile.txt\":\n",
    "        print(\"Need to stop processing the file now\")\n",
    "        break\n",
    "    print(f\"Checking IOC: {ioc}\")\n"
   ]
  },
  {
   "cell_type": "markdown",
   "id": "6ab337ae",
   "metadata": {},
   "source": [
    "## Import Packages\n",
    "In Python, the import statement is used to bring external code (modules/packages) into your current program. Think of it like plugging in a new tool to your toolbox. You don’t have to reinvent the wheel every time you write code.\n",
    "\n",
    "Without import, you’d have to manually rewrite all the functionalities for making web requests, parsing files, or doing math — every time!\n",
    "\n",
    "### Importing Built-in Modules\n",
    "These come pre-installed with Python as a part of Standard Library. No need to install separately."
   ]
  },
  {
   "cell_type": "code",
   "execution_count": null,
   "id": "50a11ced",
   "metadata": {},
   "outputs": [],
   "source": [
    "import os\n",
    "import sys\n",
    "import json"
   ]
  },
  {
   "cell_type": "markdown",
   "id": "9aca6334-c3d2-41b6-b6f0-2d4297f468dc",
   "metadata": {},
   "source": [
    "### Importing Third-Party Packages\n",
    "These are external libraries created by the Python community. To use them, you first install them using pip:\n",
    "\n",
    "```bash\n",
    "pip install requests\n",
    "```\n",
    "\n",
    "Then import in your Python code:"
   ]
  },
  {
   "cell_type": "code",
   "execution_count": null,
   "id": "1b869df8-6337-4362-bf27-454be363d0c2",
   "metadata": {},
   "outputs": [],
   "source": [
    "import requests\n",
    "\n",
    "response = requests.get(\"https://api.abuseipdb.com/api/v2/check?ipAddress=8.8.8.8\")\n",
    "print(response.status_code)"
   ]
  },
  {
   "cell_type": "markdown",
   "id": "fbd1fe23",
   "metadata": {},
   "source": [
    "## Functions\n",
    "A function is a reusable block of code that performs a specific task. Instead of repeating the same code again and again, you define it once and call it whenever needed.\n",
    "\n",
    "### Built-in Functions\n",
    "Python provides many ready-to-use functions:"
   ]
  },
  {
   "cell_type": "code",
   "execution_count": null,
   "id": "8954ced1",
   "metadata": {},
   "outputs": [],
   "source": [
    "print(\"Hello CTI!\")  # outputs text\n",
    "len(\"APT29\")         # returns length\n",
    "int(\"123\")           # converts string to int"
   ]
  },
  {
   "cell_type": "markdown",
   "id": "cbe2ffc5-c431-4ec4-9e11-0609a97f5838",
   "metadata": {},
   "source": [
    "### Functions from Modules\n",
    "You can also use functions from imported modules:"
   ]
  },
  {
   "cell_type": "code",
   "execution_count": null,
   "id": "4b88b1de-ef77-4551-927b-ab08d35b67c4",
   "metadata": {},
   "outputs": [],
   "source": [
    "import math\n",
    "\n",
    "print(math.sqrt(25))  # square root"
   ]
  },
  {
   "cell_type": "markdown",
   "id": "50e85f87-dcb3-4572-8083-c170cd861464",
   "metadata": {},
   "source": [
    "### Writing Your Own Functions\n",
    "You define a function using the `def` keyword:"
   ]
  },
  {
   "cell_type": "code",
   "execution_count": null,
   "id": "0adc6cd7-fedd-4566-b7f1-7ab1a2577ae8",
   "metadata": {},
   "outputs": [],
   "source": [
    "def greet_threat_analyst(name):\n",
    "    print(f\"Hello, {name}. Stay alert!\")\n",
    "\n",
    "greet_threat_analyst(\"Alice\")"
   ]
  },
  {
   "cell_type": "markdown",
   "id": "62a7df96",
   "metadata": {},
   "source": [
    "## Exception Handling\n",
    "An exception is an error that occurs during the execution of a program. If not handled properly, it can cause your program to crash. Instead of crashing your script, you can gracefully handle these errors using `try` and `except`."
   ]
  },
  {
   "cell_type": "code",
   "execution_count": null,
   "id": "8d7b3f6e",
   "metadata": {},
   "outputs": [],
   "source": [
    "try:\n",
    "    result = 10 / 0\n",
    "except ZeroDivisionError as e:\n",
    "    print(\"Error occurred:\", e)"
   ]
  }
 ],
 "metadata": {
  "kernelspec": {
   "display_name": "Python 3 (ipykernel)",
   "language": "python",
   "name": "python3"
  },
  "language_info": {
   "codemirror_mode": {
    "name": "ipython",
    "version": 3
   },
   "file_extension": ".py",
   "mimetype": "text/x-python",
   "name": "python",
   "nbconvert_exporter": "python",
   "pygments_lexer": "ipython3",
   "version": "3.9.6"
  }
 },
 "nbformat": 4,
 "nbformat_minor": 5
}
