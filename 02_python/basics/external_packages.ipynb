{
 "cells": [
  {
   "cell_type": "markdown",
   "id": "1032535d",
   "metadata": {},
   "source": [
    "# 📦 Working with External Packages in Python\n",
    "\n",
    "This notebook explains how to install packages using `pip`, how to import and use external packages, and how `requirements.txt` files help manage project dependencies."
   ]
  },
  {
   "cell_type": "markdown",
   "id": "418a0b9d",
   "metadata": {},
   "source": [
    "## 📥 Installing Packages Using `pip`\n",
    "\n",
    "`pip` is Python’s package installer. You can install packages from the Python Package Index (PyPI) using the command line:\n",
    "\n",
    "```bash\n",
    "pip install requests\n",
    "pip install PyYAML\n",
    "```\n",
    "\n",
    "In a Jupyter notebook, you can use:\n",
    "\n",
    "```python\n",
    "!pip install requests PyYAML\n",
    "```\n",
    "\n",
    "> ⚠️ Note: Prefixing with `!` allows you to run shell commands directly inside Jupyter notebooks."
   ]
  },
  {
   "cell_type": "code",
   "execution_count": null,
   "id": "32fc5c7a",
   "metadata": {},
   "outputs": [],
   "source": [
    "# Install requests and PyYAML\n",
    "!pip install requests PyYAML"
   ]
  },
  {
   "cell_type": "markdown",
   "id": "ba982b4e",
   "metadata": {},
   "source": [
    "## 🧰 Importing & Using External Packages\n",
    "\n",
    "Once a package is installed, you can import and use it in your Python scripts."
   ]
  },
  {
   "cell_type": "code",
   "execution_count": null,
   "id": "26e213a8",
   "metadata": {},
   "outputs": [],
   "source": [
    "# Using requests to make a simple HTTP GET request\n",
    "import requests\n",
    "\n",
    "response = requests.get(\"https://api.github.com\")\n",
    "print(\"Status Code:\", response.status_code)\n",
    "print(\"Response JSON:\", response.json())"
   ]
  },
  {
   "cell_type": "code",
   "execution_count": null,
   "id": "9beeb840",
   "metadata": {},
   "outputs": [],
   "source": [
    "# Using PyYAML to parse YAML data\n",
    "import yaml\n",
    "\n",
    "yaml_data = \"\"\"\n",
    "name: Cyber Threat Intel\n",
    "language: Python\n",
    "packages:\n",
    "  - requests\n",
    "  - PyYAML\n",
    "\"\"\"\n",
    "\n",
    "parsed_data = yaml.safe_load(yaml_data)\n",
    "print(parsed_data)"
   ]
  },
  {
   "cell_type": "markdown",
   "id": "3b38b12f",
   "metadata": {},
   "source": [
    "## 📄 Understanding `requirements.txt`\n",
    "\n",
    "`requirements.txt` is a plain text file listing the packages your project depends on.\n",
    "\n",
    "**Example:**\n",
    "```txt\n",
    "requests>=2.25.1\n",
    "PyYAML==6.0\n",
    "```\n",
    "\n",
    "To install all dependencies from a `requirements.txt` file:\n",
    "```bash\n",
    "pip install -r requirements.txt\n",
    "```\n",
    "\n",
    "To generate this file for your environment:\n",
    "```bash\n",
    "pip freeze > requirements.txt\n",
    "```"
   ]
  }
 ],
 "metadata": {
  "kernelspec": {
   "display_name": "Python 3 (ipykernel)",
   "language": "python",
   "name": "python3"
  },
  "language_info": {
   "codemirror_mode": {
    "name": "ipython",
    "version": 3
   },
   "file_extension": ".py",
   "mimetype": "text/x-python",
   "name": "python",
   "nbconvert_exporter": "python",
   "pygments_lexer": "ipython3",
   "version": "3.13.3"
  }
 },
 "nbformat": 4,
 "nbformat_minor": 5
}
