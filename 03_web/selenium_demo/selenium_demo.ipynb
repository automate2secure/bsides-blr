{
 "cells": [
  {
   "cell_type": "markdown",
   "id": "e374c2ff-b63d-4202-999d-d8e50605dfca",
   "metadata": {},
   "source": [
    "# Selenium Demo"
   ]
  },
  {
   "cell_type": "markdown",
   "id": "375c6c50-0620-430d-ac3a-07eaba7c4fb5",
   "metadata": {},
   "source": [
    "## Get a page"
   ]
  },
  {
   "cell_type": "code",
   "execution_count": null,
   "id": "264ff2d0-f466-4486-9fe1-4afba366bad9",
   "metadata": {},
   "outputs": [],
   "source": [
    "#!/usr/bin/python3\n",
    "\n",
    "import time\n",
    "\n",
    "from selenium import webdriver\n",
    "\n",
    "# Set up the WebDriver (e.g., Chrome)\n",
    "driver = webdriver.Firefox()\n",
    "\n",
    "# Open a webpage\n",
    "driver.get(\"https://www.google.com\")\n",
    "\n",
    "time.sleep(10)\n",
    "\n",
    "# Close the browser\n",
    "driver.quit()"
   ]
  },
  {
   "cell_type": "markdown",
   "id": "1dbc36c0-9185-4cd4-b8a2-2354d4068105",
   "metadata": {},
   "source": [
    "## Interact with page"
   ]
  },
  {
   "cell_type": "code",
   "execution_count": null,
   "id": "d2c80d08-d49c-483f-b223-206a4b66d023",
   "metadata": {},
   "outputs": [],
   "source": [
    "#!/usr/bin/python3\n",
    "\n",
    "import time\n",
    "\n",
    "from selenium import webdriver\n",
    "from selenium.webdriver.common.keys import Keys\n",
    "\n",
    "\n",
    "# Set up the WebDriver (e.g., Chrome)\n",
    "driver = webdriver.Chrome()\n",
    "\n",
    "# Open a webpage\n",
    "driver.get(\"https://selenium-python.readthedocs.io/\")\n",
    "\n",
    "# Find the search box\n",
    "search_box = driver.find_element(\"name\", \"q\")\n",
    "\n",
    "time.sleep(10)\n",
    "\n",
    "# Send in our query\n",
    "search_box.send_keys(\"Locating Elements\")\n",
    "\n",
    "# Press Enter key\n",
    "search_box.send_keys(Keys.ENTER)\n",
    "\n",
    "time.sleep(10)\n",
    "\n",
    "# Close the browser\n",
    "driver.quit()"
   ]
  }
 ],
 "metadata": {
  "kernelspec": {
   "display_name": "Python 3 (ipykernel)",
   "language": "python",
   "name": "python3"
  },
  "language_info": {
   "codemirror_mode": {
    "name": "ipython",
    "version": 3
   },
   "file_extension": ".py",
   "mimetype": "text/x-python",
   "name": "python",
   "nbconvert_exporter": "python",
   "pygments_lexer": "ipython3",
   "version": "3.9.6"
  }
 },
 "nbformat": 4,
 "nbformat_minor": 5
}
